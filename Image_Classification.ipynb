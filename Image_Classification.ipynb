{
  "nbformat": 4,
  "nbformat_minor": 0,
  "metadata": {
    "colab": {
      "provenance": [],
      "authorship_tag": "ABX9TyNKSvNRgQa2pfCe3sJ2Em6a",
      "include_colab_link": true
    },
    "kernelspec": {
      "name": "python3",
      "display_name": "Python 3"
    },
    "language_info": {
      "name": "python"
    },
    "widgets": {
      "application/vnd.jupyter.widget-state+json": {
        "2e09ab0b7a0843cea41f5518ba490d7b": {
          "model_module": "@jupyter-widgets/controls",
          "model_name": "TextModel",
          "model_module_version": "1.5.0",
          "state": {
            "_dom_classes": [],
            "_model_module": "@jupyter-widgets/controls",
            "_model_module_version": "1.5.0",
            "_model_name": "TextModel",
            "_view_count": null,
            "_view_module": "@jupyter-widgets/controls",
            "_view_module_version": "1.5.0",
            "_view_name": "TextView",
            "continuous_update": true,
            "description": "Image URL:",
            "description_tooltip": null,
            "disabled": false,
            "layout": "IPY_MODEL_4eaae64039e5489a90a1b4aa7c2b21dd",
            "placeholder": "Enter the image URL",
            "style": "IPY_MODEL_ebdf7d8b0925483a87af3cb70eec8f2e",
            "value": "https://encrypted-tbn0.gstatic.com/images?q=tbn:ANd9GcTXmOdCMuL6KWedNh7pps6CWV6G_QNRgNo2rA&s"
          }
        },
        "4eaae64039e5489a90a1b4aa7c2b21dd": {
          "model_module": "@jupyter-widgets/base",
          "model_name": "LayoutModel",
          "model_module_version": "1.2.0",
          "state": {
            "_model_module": "@jupyter-widgets/base",
            "_model_module_version": "1.2.0",
            "_model_name": "LayoutModel",
            "_view_count": null,
            "_view_module": "@jupyter-widgets/base",
            "_view_module_version": "1.2.0",
            "_view_name": "LayoutView",
            "align_content": null,
            "align_items": null,
            "align_self": null,
            "border": null,
            "bottom": null,
            "display": null,
            "flex": null,
            "flex_flow": null,
            "grid_area": null,
            "grid_auto_columns": null,
            "grid_auto_flow": null,
            "grid_auto_rows": null,
            "grid_column": null,
            "grid_gap": null,
            "grid_row": null,
            "grid_template_areas": null,
            "grid_template_columns": null,
            "grid_template_rows": null,
            "height": null,
            "justify_content": null,
            "justify_items": null,
            "left": null,
            "margin": null,
            "max_height": null,
            "max_width": null,
            "min_height": null,
            "min_width": null,
            "object_fit": null,
            "object_position": null,
            "order": null,
            "overflow": null,
            "overflow_x": null,
            "overflow_y": null,
            "padding": null,
            "right": null,
            "top": null,
            "visibility": null,
            "width": null
          }
        },
        "ebdf7d8b0925483a87af3cb70eec8f2e": {
          "model_module": "@jupyter-widgets/controls",
          "model_name": "DescriptionStyleModel",
          "model_module_version": "1.5.0",
          "state": {
            "_model_module": "@jupyter-widgets/controls",
            "_model_module_version": "1.5.0",
            "_model_name": "DescriptionStyleModel",
            "_view_count": null,
            "_view_module": "@jupyter-widgets/base",
            "_view_module_version": "1.2.0",
            "_view_name": "StyleView",
            "description_width": ""
          }
        }
      }
    }
  },
  "cells": [
    {
      "cell_type": "markdown",
      "metadata": {
        "id": "view-in-github",
        "colab_type": "text"
      },
      "source": [
        "<a href=\"https://colab.research.google.com/github/farshadabdulazeez/Image-classifier/blob/master/Image_Classification.ipynb\" target=\"_parent\"><img src=\"https://colab.research.google.com/assets/colab-badge.svg\" alt=\"Open In Colab\"/></a>"
      ]
    },
    {
      "cell_type": "code",
      "execution_count": null,
      "metadata": {
        "colab": {
          "base_uri": "https://localhost:8080/"
        },
        "id": "xFMxkYb4_MzW",
        "outputId": "7256a684-3709-4382-c6f8-1b582a75e4c9"
      },
      "outputs": [
        {
          "output_type": "stream",
          "name": "stdout",
          "text": [
            "Collecting ipython-autotime\n",
            "  Downloading ipython_autotime-0.3.2-py2.py3-none-any.whl.metadata (1.4 kB)\n",
            "Requirement already satisfied: ipython in /usr/local/lib/python3.10/dist-packages (from ipython-autotime) (7.34.0)\n",
            "Requirement already satisfied: setuptools>=18.5 in /usr/local/lib/python3.10/dist-packages (from ipython->ipython-autotime) (71.0.4)\n",
            "Collecting jedi>=0.16 (from ipython->ipython-autotime)\n",
            "  Using cached jedi-0.19.1-py2.py3-none-any.whl.metadata (22 kB)\n",
            "Requirement already satisfied: decorator in /usr/local/lib/python3.10/dist-packages (from ipython->ipython-autotime) (4.4.2)\n",
            "Requirement already satisfied: pickleshare in /usr/local/lib/python3.10/dist-packages (from ipython->ipython-autotime) (0.7.5)\n",
            "Requirement already satisfied: traitlets>=4.2 in /usr/local/lib/python3.10/dist-packages (from ipython->ipython-autotime) (5.7.1)\n",
            "Requirement already satisfied: prompt-toolkit!=3.0.0,!=3.0.1,<3.1.0,>=2.0.0 in /usr/local/lib/python3.10/dist-packages (from ipython->ipython-autotime) (3.0.47)\n",
            "Requirement already satisfied: pygments in /usr/local/lib/python3.10/dist-packages (from ipython->ipython-autotime) (2.16.1)\n",
            "Requirement already satisfied: backcall in /usr/local/lib/python3.10/dist-packages (from ipython->ipython-autotime) (0.2.0)\n",
            "Requirement already satisfied: matplotlib-inline in /usr/local/lib/python3.10/dist-packages (from ipython->ipython-autotime) (0.1.7)\n",
            "Requirement already satisfied: pexpect>4.3 in /usr/local/lib/python3.10/dist-packages (from ipython->ipython-autotime) (4.9.0)\n",
            "Requirement already satisfied: parso<0.9.0,>=0.8.3 in /usr/local/lib/python3.10/dist-packages (from jedi>=0.16->ipython->ipython-autotime) (0.8.4)\n",
            "Requirement already satisfied: ptyprocess>=0.5 in /usr/local/lib/python3.10/dist-packages (from pexpect>4.3->ipython->ipython-autotime) (0.7.0)\n",
            "Requirement already satisfied: wcwidth in /usr/local/lib/python3.10/dist-packages (from prompt-toolkit!=3.0.0,!=3.0.1,<3.1.0,>=2.0.0->ipython->ipython-autotime) (0.2.13)\n",
            "Downloading ipython_autotime-0.3.2-py2.py3-none-any.whl (7.0 kB)\n",
            "Using cached jedi-0.19.1-py2.py3-none-any.whl (1.6 MB)\n",
            "Installing collected packages: jedi, ipython-autotime\n",
            "Successfully installed ipython-autotime-0.3.2 jedi-0.19.1\n",
            "time: 332 µs (started: 2024-09-07 13:14:27 +00:00)\n"
          ]
        }
      ],
      "source": [
        "#ipython-autotime, you can keep track of the execution time of code cells without adding explicit timing code to each cell.\n",
        "\n",
        "!pip install ipython-autotime\n",
        "%load_ext autotime"
      ]
    },
    {
      "cell_type": "code",
      "source": [
        "#The bing-image-downloader package allows you to download images from Bing in Python.\n",
        "\n",
        "!pip install bing-image-downloader"
      ],
      "metadata": {
        "colab": {
          "base_uri": "https://localhost:8080/"
        },
        "id": "1UuhBdLmGu-l",
        "outputId": "eb92c04a-0f20-4aee-cfa2-e3076e3768bb"
      },
      "execution_count": null,
      "outputs": [
        {
          "output_type": "stream",
          "name": "stdout",
          "text": [
            "Collecting bing-image-downloader\n",
            "  Downloading bing_image_downloader-1.1.2-py3-none-any.whl.metadata (2.8 kB)\n",
            "Downloading bing_image_downloader-1.1.2-py3-none-any.whl (5.9 kB)\n",
            "Installing collected packages: bing-image-downloader\n",
            "Successfully installed bing-image-downloader-1.1.2\n",
            "time: 7.88 s (started: 2024-09-07 13:14:29 +00:00)\n"
          ]
        }
      ]
    },
    {
      "cell_type": "code",
      "source": [
        "#mkdir is used to create a new directory (folder) in the file system\n",
        "\n",
        "!mkdir images"
      ],
      "metadata": {
        "colab": {
          "base_uri": "https://localhost:8080/"
        },
        "id": "d0ZU7PVCH5a4",
        "outputId": "ca7b85e6-d858-4666-c4ba-059f604f57f2"
      },
      "execution_count": null,
      "outputs": [
        {
          "output_type": "stream",
          "name": "stdout",
          "text": [
            "time: 106 ms (started: 2024-09-07 13:14:40 +00:00)\n"
          ]
        }
      ]
    },
    {
      "cell_type": "code",
      "source": [
        "from bing_image_downloader import downloader\n",
        "\n",
        "# Replace 'keyword' with your desired search term\n",
        "downloader.download(\"sunflower\", limit=30, output_dir='images', adult_filter_off=True)\n",
        "\n",
        "'''\n",
        "keyword: The search term for which images will be downloaded.\n",
        "limit: The maximum number of images to download.\n",
        "output_dir: The directory where downloaded images will be saved.\n",
        "adult_filter_off: Enables or disables the adult content filter.\n",
        "force_replace: Determines whether to replace existing files in the output directory.\n",
        "timeout: The maximum time (in seconds) allowed for each download request.\n",
        "'''"
      ],
      "metadata": {
        "colab": {
          "base_uri": "https://localhost:8080/",
          "height": 1000
        },
        "id": "4-RNil2CIxoW",
        "outputId": "b42ec16a-dcbc-4ae7-98a9-58a2969a17d4"
      },
      "execution_count": null,
      "outputs": [
        {
          "output_type": "stream",
          "name": "stdout",
          "text": [
            "[%] Downloading Images to /content/images/sunflower\n",
            "\n",
            "\n",
            "[!!]Indexing page: 1\n",
            "\n",
            "[%] Indexed 90 Images on Page 1.\n",
            "\n",
            "===============================================\n",
            "\n",
            "[%] Downloading Image #1 from https://jooinn.com/images/sunflower-plant-3.jpg\n",
            "[%] File Downloaded !\n",
            "\n",
            "[%] Downloading Image #2 from http://upload.wikimedia.org/wikipedia/commons/4/4e/Sunflower_2007.JPG\n",
            "[%] File Downloaded !\n",
            "\n",
            "[%] Downloading Image #3 from http://upload.wikimedia.org/wikipedia/commons/b/bf/Sunflower_from_Silesia.JPG\n",
            "[%] File Downloaded !\n",
            "\n",
            "[%] Downloading Image #4 from https://meanderingwild.com/wp-content/uploads/2023/04/sunflower-personality.jpeg\n",
            "[%] File Downloaded !\n",
            "\n",
            "[%] Downloading Image #5 from http://upload.wikimedia.org/wikipedia/commons/d/d8/Yellow_sunflower_001.JPG\n",
            "[%] File Downloaded !\n",
            "\n",
            "[%] Downloading Image #6 from http://wallsdesk.com/wp-content/uploads/2017/01/Sunflower-full-HD.jpg\n",
            "[%] File Downloaded !\n",
            "\n",
            "[%] Downloading Image #7 from https://gilmour.com/wp-content/uploads/2018/03/growing-sunflowers.jpg\n",
            "[!] Issue getting: https://gilmour.com/wp-content/uploads/2018/03/growing-sunflowers.jpg\n",
            "[!] Error:: HTTP Error 403: Forbidden\n",
            "[%] Downloading Image #7 from https://images.unsplash.com/photo-1536626420752-b144a129fde9?ixlib=rb-1.2.1&amp;ixid=eyJhcHBfaWQiOjEyMDd9&amp;w=1000&amp;q=80\n",
            "[%] File Downloaded !\n",
            "\n",
            "[%] Downloading Image #8 from http://upload.wikimedia.org/wikipedia/commons/5/5d/Sunflower_head.jpg\n",
            "[%] File Downloaded !\n",
            "\n",
            "[%] Downloading Image #9 from https://images.ctfassets.net/i3tkg7dt3kro/63FGq7L4NaWBLjl27vDtdZ/2e076e0c74a7c22ad3ed3bd44ec11086/6-11_Meaning-of-Sunflowers_Images.jpg\n",
            "[%] File Downloaded !\n",
            "\n",
            "[%] Downloading Image #10 from https://upload.wikimedia.org/wikipedia/commons/a/a9/A_sunflower.jpg\n",
            "[%] File Downloaded !\n",
            "\n",
            "[%] Downloading Image #11 from http://nextluxury.com/wp-content/uploads/72977282_2462281207349956_6469311765387778188_n.jpg\n",
            "[%] File Downloaded !\n",
            "\n",
            "[%] Downloading Image #12 from http://nextluxury.com/wp-content/uploads/75371294_162508011489815_879139501903652429_n.jpg\n",
            "[%] File Downloaded !\n",
            "\n",
            "[%] Downloading Image #13 from http://nextluxury.com/wp-content/uploads/9615e709253a31773b275f8b8063a54a.jpg\n",
            "[%] File Downloaded !\n",
            "\n",
            "[%] Downloading Image #14 from http://nextluxury.com/wp-content/uploads/7055d492e8bef96ab60958e46c355f86.jpg\n",
            "[%] File Downloaded !\n",
            "\n",
            "[%] Downloading Image #15 from http://tattoo-journal.com/wp-content/uploads/2015/06/11821841_1663165143969693_588691571_n.jpg\n",
            "[%] File Downloaded !\n",
            "\n",
            "[%] Downloading Image #16 from http://nextluxury.com/wp-content/uploads/74661328_3034859579862327_5366610301911543693_n.jpg\n",
            "[%] File Downloaded !\n",
            "\n",
            "[%] Downloading Image #17 from http://nextluxury.com/wp-content/uploads/72652487_832875057127824_6894703071301805331_n.jpg\n",
            "[%] File Downloaded !\n",
            "\n",
            "[%] Downloading Image #18 from http://tattoo-journal.com/wp-content/uploads/2015/09/sunflower-tattoo_-7.jpg\n",
            "[%] File Downloaded !\n",
            "\n",
            "[%] Downloading Image #19 from https://pulptastic.com/wp-content/uploads/2021/06/7.-outline-sunflower-tattoo-819x1024.jpeg\n",
            "[%] File Downloaded !\n",
            "\n",
            "[%] Downloading Image #20 from https://www.bodytattooart.com/wp-content/uploads/2019/09/sunflower-tattoos-020.jpg\n",
            "[Error]Invalid image, not saving https://www.bodytattooart.com/wp-content/uploads/2019/09/sunflower-tattoos-020.jpg\n",
            "\n",
            "[!] Issue getting: https://www.bodytattooart.com/wp-content/uploads/2019/09/sunflower-tattoos-020.jpg\n",
            "[!] Error:: Invalid image, not saving https://www.bodytattooart.com/wp-content/uploads/2019/09/sunflower-tattoos-020.jpg\n",
            "\n",
            "[%] Downloading Image #20 from https://cdn.shopify.com/s/files/1/1184/2886/files/5ea4ff419120de15f41c77dcf811b990_1_2048x2048.jpg?v=1497130910\n",
            "[%] File Downloaded !\n",
            "\n",
            "[%] Downloading Image #21 from http://nextluxury.com/wp-content/uploads/de84f3773d8391427c477145b81971f4.jpg\n",
            "[%] File Downloaded !\n",
            "\n",
            "[%] Downloading Image #22 from https://pulptastic.com/wp-content/uploads/2021/06/22.-shoulder-sunflower-tato-1024x1024.jpg\n",
            "[%] File Downloaded !\n",
            "\n",
            "[%] Downloading Image #23 from http://www.diybig.com/wp-content/uploads/2020/02/19-Sunflower-Tattoos.jpg\n",
            "[Error]Invalid image, not saving http://www.diybig.com/wp-content/uploads/2020/02/19-Sunflower-Tattoos.jpg\n",
            "\n",
            "[!] Issue getting: http://www.diybig.com/wp-content/uploads/2020/02/19-Sunflower-Tattoos.jpg\n",
            "[!] Error:: Invalid image, not saving http://www.diybig.com/wp-content/uploads/2020/02/19-Sunflower-Tattoos.jpg\n",
            "\n",
            "[%] Downloading Image #23 from http://tattoo-journal.com/wp-content/uploads/2015/09/sunflower-tattoo_-1.jpg\n",
            "[%] File Downloaded !\n",
            "\n",
            "[%] Downloading Image #24 from https://i.pinimg.com/originals/4a/30/ea/4a30ea06aa47dca8569f410a6ae6830b.jpg\n",
            "[%] File Downloaded !\n",
            "\n",
            "[%] Downloading Image #25 from https://i.pinimg.com/originals/36/6b/7b/366b7b90746261b8b3a5df26a5d7c1c3.jpg\n",
            "[%] File Downloaded !\n",
            "\n",
            "[%] Downloading Image #26 from https://tattoo-journal.com/wp-content/uploads/2015/06/sunflower-tattoo-141.jpg\n",
            "[%] File Downloaded !\n",
            "\n",
            "[%] Downloading Image #27 from http://nextluxury.com/wp-content/uploads/75200971_167681587759184_2405576145577114850_n.jpg\n",
            "[%] File Downloaded !\n",
            "\n",
            "[%] Downloading Image #28 from https://tattmag.com/wp-content/uploads/2020/08/Sunflower-Tattoo.jpg\n",
            "[%] File Downloaded !\n",
            "\n",
            "[%] Downloading Image #29 from https://asset.bloomnation.com/c_pad,d_vendor:global:catalog:product:image.png,f_auto,fl_preserve_transparency,q_auto/v1599701586/vendor/6499/catalog/product/2/0/20200909061401_file_5f591b69602dc_5f591e469867e.jpg\n",
            "[%] File Downloaded !\n",
            "\n",
            "[%] Downloading Image #30 from https://asset.bloomnation.com/c_pad,d_vendor:global:catalog:product:image.png,f_auto,fl_preserve_transparency,q_auto/v1612965132/vendor/6412/catalog/product/2/0/20200820062212_file_5f3e1694d70ec_5f3e16ba33fc1.jpeg\n",
            "[%] File Downloaded !\n",
            "\n",
            "\n",
            "\n",
            "[%] Done. Downloaded 30 images.\n"
          ]
        },
        {
          "output_type": "execute_result",
          "data": {
            "text/plain": [
              "'\\nkeyword: The search term for which images will be downloaded.\\nlimit: The maximum number of images to download.\\noutput_dir: The directory where downloaded images will be saved.\\nadult_filter_off: Enables or disables the adult content filter.\\nforce_replace: Determines whether to replace existing files in the output directory.\\ntimeout: The maximum time (in seconds) allowed for each download request.\\n'"
            ],
            "application/vnd.google.colaboratory.intrinsic+json": {
              "type": "string"
            }
          },
          "metadata": {},
          "execution_count": 5
        },
        {
          "output_type": "stream",
          "name": "stdout",
          "text": [
            "time: 9.2 s (started: 2024-09-07 13:14:42 +00:00)\n"
          ]
        }
      ]
    },
    {
      "cell_type": "code",
      "source": [
        "# Replace 'keyword' with your desired search term\n",
        "downloader.download(\"rugby ball leather\", limit=30, output_dir='images', adult_filter_off=True)\n",
        "\n"
      ],
      "metadata": {
        "colab": {
          "base_uri": "https://localhost:8080/"
        },
        "id": "nq92AN30AtzY",
        "outputId": "d627f587-82ff-41ea-e114-df0dd5cf009c"
      },
      "execution_count": null,
      "outputs": [
        {
          "output_type": "stream",
          "name": "stdout",
          "text": [
            "[%] Downloading Images to /content/images/rugby ball leather\n",
            "\n",
            "\n",
            "[!!]Indexing page: 1\n",
            "\n",
            "[%] Indexed 90 Images on Page 1.\n",
            "\n",
            "===============================================\n",
            "\n",
            "[%] Downloading Image #1 from https://cdn.shopify.com/s/files/1/0226/2169/products/Angus_2048x2048_V1.jpg?v=1511272443\n",
            "[%] File Downloaded !\n",
            "\n",
            "[%] Downloading Image #2 from http://cdn1.bigcommerce.com/server1000/4dd02/products/682/images/3492/_MG_0374v2__78298.1332357807.1280.1280.jpg\n",
            "[!] Issue getting: http://cdn1.bigcommerce.com/server1000/4dd02/products/682/images/3492/_MG_0374v2__78298.1332357807.1280.1280.jpg\n",
            "[!] Error:: HTTP Error 404: Not Found\n",
            "[%] Downloading Image #2 from https://cdn-s3.touchofmodern.com/products/001/323/791/747ec1b9d79741dfdc64e98bedc689fc_large.jpg?1544121098\n",
            "[%] File Downloaded !\n",
            "\n",
            "[%] Downloading Image #3 from https://cdn.shopify.com/s/files/1/0068/0227/6407/products/2600_20RAAA13_2082001205_20Ball_20Leather_20Vint_20Dk_20Tan_20Sz5_1900x.jpg?v=1569300151\n",
            "[%] File Downloaded !\n",
            "\n",
            "[%] Downloading Image #4 from https://secure.graysobjects.com/B2Bdata/GIL/2014/A/High Res/RAAA14LeatherBalls Heritage Leather Match Ball.jpg\n",
            "[!] Issue getting: https://secure.graysobjects.com/B2Bdata/GIL/2014/A/High Res/RAAA14LeatherBalls Heritage Leather Match Ball.jpg\n",
            "[!] Error:: URL can't contain control characters. '/B2Bdata/GIL/2014/A/High Res/RAAA14LeatherBalls Heritage Leather Match Ball.jpg' (found at least ' ')\n",
            "[%] Downloading Image #4 from https://webbellisrugby.co.uk/wp-content/uploads/2021/03/3v2WWv_E.jpeg\n",
            "[%] File Downloaded !\n",
            "\n",
            "[%] Downloading Image #5 from http://cdn.shopify.com/s/files/1/0226/2169/products/0a2d5b467c23e50338e0cf0824978c72_1024x1024.jpg?v=1459274944\n",
            "[%] File Downloaded !\n",
            "\n",
            "[%] Downloading Image #6 from https://cdn.notonthehighstreet.com/fs/83/da/2b8a-30e0-45a8-8866-89c0ad0b3057/original_vintage-leather-rugby-ball.jpg\n",
            "[%] File Downloaded !\n",
            "\n",
            "[%] Downloading Image #7 from https://cdn.notonthehighstreet.com/system/product_images/images/000/441/248/original_SUM11-005-i.jpg\n",
            "[%] File Downloaded !\n",
            "\n",
            "[%] Downloading Image #8 from https://cdn.shopify.com/s/files/1/0269/2284/4257/products/allblackvintagerugbyball_1200x.png?v=1601122831\n",
            "[%] File Downloaded !\n",
            "\n",
            "[%] Downloading Image #9 from https://cdn.notonthehighstreet.com/system/product_images/images/000/393/351/original_CF016852.jpg\n",
            "[%] File Downloaded !\n",
            "\n",
            "[%] Downloading Image #10 from https://cdn.shopify.com/s/files/1/0269/2284/4257/products/allblacks2_5000x.jpg?v=1605735656\n",
            "[%] File Downloaded !\n",
            "\n",
            "[%] Downloading Image #11 from https://cdn.shopify.com/s/files/1/0226/2169/products/Chromexcel_2048x2048_V2.jpg?v=1511272699\n",
            "[%] File Downloaded !\n",
            "\n",
            "[%] Downloading Image #12 from https://cdn.notonthehighstreet.com/fs/cb/ff/79c1-6f8d-4b44-8516-8bc8ea2511e0/original_personalised-vintage-leather-rugby-ball.jpg\n",
            "[%] File Downloaded !\n",
            "\n",
            "[%] Downloading Image #13 from http://www.kraveantiques.co.uk/images/products/Brown-Rugby-Ball-1455-12.jpg\n",
            "[%] File Downloaded !\n",
            "\n",
            "[%] Downloading Image #14 from https://i.etsystatic.com/8638458/r/il/859006/4794587210/il_1080xN.4794587210_jsux.jpg\n",
            "[%] File Downloaded !\n",
            "\n",
            "[%] Downloading Image #15 from http://img.auctiva.com/imgdata/9/3/4/5/4/4/webimg/666799573_o.jpg\n",
            "[%] File Downloaded !\n",
            "\n",
            "[%] Downloading Image #16 from https://i.etsystatic.com/8638458/r/il/3c9a16/4794587536/il_fullxfull.4794587536_in3g.jpg\n",
            "[%] File Downloaded !\n",
            "\n",
            "[%] Downloading Image #17 from https://i.etsystatic.com/8638458/r/il/3079d1/1402670954/il_1140xN.1402670954_166o.jpg\n",
            "[%] File Downloaded !\n",
            "\n",
            "[%] Downloading Image #18 from https://www.leatherheadsports.com/cdn/shop/products/Angus_2048x2048_V1_1445x.jpg?v=1511272443\n",
            "[%] File Downloaded !\n",
            "\n",
            "[%] Downloading Image #19 from https://a.1stdibscdn.com/original-vintage-leather-rugby-ball-with-6-panels-for-sale/1121189/f_161686811571203319261/16168681_master.jpg\n",
            "[%] File Downloaded !\n",
            "\n",
            "[%] Downloading Image #20 from https://i.etsystatic.com/8638458/r/il/e5f96d/3677049747/il_fullxfull.3677049747_6wq9.jpg\n",
            "[%] File Downloaded !\n",
            "\n",
            "[%] Downloading Image #21 from https://files.ekmcdn.com/4ec6af/images/personalised-vintage-leather-rugby-ball-(4)-2894-p.jpg?v=00529D81-6E12-4A80-94FE-9970B21C1D76\n",
            "[%] File Downloaded !\n",
            "\n",
            "[%] Downloading Image #22 from https://i.etsystatic.com/8638458/r/il/52c71b/4845348231/il_1080xN.4845348231_j30m.jpg\n",
            "[%] File Downloaded !\n",
            "\n",
            "[%] Downloading Image #23 from https://www.john-woodbridge.com/1035-tm_thickbox_default/1940s-rugby-ball.jpg\n",
            "[%] File Downloaded !\n",
            "\n",
            "[%] Downloading Image #24 from https://cdn.notonthehighstreet.com/fs/1a/8c/ed41-bd3d-42a8-8d25-9fc8a3ed4dd9/original_personalised-vintage-leather-rugby-ball.jpg\n",
            "[%] File Downloaded !\n",
            "\n",
            "[%] Downloading Image #25 from https://www.geoff1912.com/wp-content/uploads/2018/05/Rugby-4P-DT-768x891.jpg\n",
            "[%] File Downloaded !\n",
            "\n",
            "[%] Downloading Image #26 from https://a.1stdibscdn.com/vintage-super-fine-leather-rugby-ball-for-sale-picture-2/f_9757/f_341281521683212449252/29612a_master.jpg?width=768\n",
            "[%] File Downloaded !\n",
            "\n",
            "[%] Downloading Image #27 from https://i.etsystatic.com/8638458/r/il/2e5114/2557762238/il_1140xN.2557762238_jy52.jpg\n",
            "[%] File Downloaded !\n",
            "\n",
            "[%] Downloading Image #28 from https://i.etsystatic.com/8638458/r/il/859006/4794587210/il_300x300.4794587210_jsux.jpg\n",
            "[%] File Downloaded !\n",
            "\n",
            "[%] Downloading Image #29 from https://cdn.notonthehighstreet.com/fs/bc/bf/b416-c6ec-4237-8796-594d7ef00719/original_personalised-vintage-leather-rugby-ball.jpg\n",
            "[%] File Downloaded !\n",
            "\n",
            "[%] Downloading Image #30 from https://i.etsystatic.com/8638458/r/il/f800c6/1481790933/il_794xN.1481790933_f8o4.jpg\n",
            "[%] File Downloaded !\n",
            "\n",
            "\n",
            "\n",
            "[%] Done. Downloaded 30 images.\n",
            "time: 12.9 s (started: 2024-09-07 13:14:53 +00:00)\n"
          ]
        }
      ]
    },
    {
      "cell_type": "code",
      "source": [
        "\n",
        "downloader.download(\"ice cream cone\", limit=30, output_dir='images', adult_filter_off=True)\n"
      ],
      "metadata": {
        "colab": {
          "base_uri": "https://localhost:8080/"
        },
        "id": "WpbR76eqKBiz",
        "outputId": "1b0d053e-4738-4cb6-fa6f-364353af0156"
      },
      "execution_count": null,
      "outputs": [
        {
          "output_type": "stream",
          "name": "stdout",
          "text": [
            "[%] Downloading Images to /content/images/ice cream cone\n",
            "\n",
            "\n",
            "[!!]Indexing page: 1\n",
            "\n",
            "[%] Indexed 30 Images on Page 1.\n",
            "\n",
            "===============================================\n",
            "\n",
            "[%] Downloading Image #1 from http://www.camdenac.com/wp-content/uploads/2017/05/7-scoop-ice-cream-cone.jpg\n",
            "[Error]Invalid image, not saving http://www.camdenac.com/wp-content/uploads/2017/05/7-scoop-ice-cream-cone.jpg\n",
            "\n",
            "[!] Issue getting: http://www.camdenac.com/wp-content/uploads/2017/05/7-scoop-ice-cream-cone.jpg\n",
            "[!] Error:: Invalid image, not saving http://www.camdenac.com/wp-content/uploads/2017/05/7-scoop-ice-cream-cone.jpg\n",
            "\n",
            "[%] Downloading Image #1 from https://www.foodrepublic.com/wp-content/uploads/2016/08/cones_mainimage.jpg\n",
            "[%] File Downloaded !\n",
            "\n",
            "[%] Downloading Image #2 from https://i.pinimg.com/originals/60/46/1f/60461f63e4a8960d53c17b40d8dfb41e.jpg\n",
            "[%] File Downloaded !\n",
            "\n",
            "[%] Downloading Image #3 from http://graphics8.nytimes.com/images/2013/06/02/magazine/02wmt/02wmt-superJumbo-v3.jpg\n",
            "[%] File Downloaded !\n",
            "\n",
            "[%] Downloading Image #4 from https://mir-s3-cdn-cf.behance.net/project_modules/1400/619b4626460315.5635582e7e0a4.jpg\n",
            "[Error]Invalid image, not saving https://mir-s3-cdn-cf.behance.net/project_modules/1400/619b4626460315.5635582e7e0a4.jpg\n",
            "\n",
            "[!] Issue getting: https://mir-s3-cdn-cf.behance.net/project_modules/1400/619b4626460315.5635582e7e0a4.jpg\n",
            "[!] Error:: Invalid image, not saving https://mir-s3-cdn-cf.behance.net/project_modules/1400/619b4626460315.5635582e7e0a4.jpg\n",
            "\n",
            "[%] Downloading Image #4 from https://i0.wp.com/northogdenconnection.com/wp-content/uploads/2020/06/AdobeStock_267330679.jpeg?w=2169&amp;ssl=1\n",
            "[!] Issue getting: https://i0.wp.com/northogdenconnection.com/wp-content/uploads/2020/06/AdobeStock_267330679.jpeg?w=2169&amp;ssl=1\n",
            "[!] Error:: HTTP Error 404: Not Found\n",
            "[%] Downloading Image #4 from https://www.webstaurantstore.com/images/products/extra_large/123848/1914523.jpg\n",
            "[%] File Downloaded !\n",
            "\n",
            "[%] Downloading Image #5 from http://3.bp.blogspot.com/-93_fBMbStxA/ToEGcFNcz3I/AAAAAAAAAcU/JVXx_HmFLfo/s1600/IMG_3500.jpg\n",
            "[%] File Downloaded !\n",
            "\n",
            "[%] Downloading Image #6 from http://gabrielquotes.files.wordpress.com/2012/04/ice-cream-cone-4650355-ji.jpg\n",
            "[%] File Downloaded !\n",
            "\n",
            "[%] Downloading Image #7 from https://static.fanpage.it/wp-content/uploads/sites/22/2018/07/coni.jpg\n",
            "[%] File Downloaded !\n",
            "\n",
            "[%] Downloading Image #8 from https://www.procaffenation.com/wp-content/uploads/2017/04/22-1.jpg\n",
            "[Error]Invalid image, not saving https://www.procaffenation.com/wp-content/uploads/2017/04/22-1.jpg\n",
            "\n",
            "[!] Issue getting: https://www.procaffenation.com/wp-content/uploads/2017/04/22-1.jpg\n",
            "[!] Error:: Invalid image, not saving https://www.procaffenation.com/wp-content/uploads/2017/04/22-1.jpg\n",
            "\n",
            "[%] Downloading Image #8 from https://upload.wikimedia.org/wikipedia/commons/d/da/Strawberry_ice_cream_cone_(5076899310).jpg\n",
            "[%] File Downloaded !\n",
            "\n",
            "[%] Downloading Image #9 from http://www.thecomfortofcooking.com/wp-content/uploads/2016/01/HomemadeVanillaDrumstickIceCreamCones-1.jpg\n",
            "[%] File Downloaded !\n",
            "\n",
            "[%] Downloading Image #10 from https://jellytoastblog.com/wp-content/uploads/2016/06/marshmallow-dipped-ice-cream-cones-8-of-11.jpg\n",
            "[%] File Downloaded !\n",
            "\n",
            "[%] Downloading Image #11 from https://images.creativemarket.com/0.1.0/ps/4970037/1820/2918/m1/fpnw/wm1/lhfctp7lfzszsht3rdbshf2330lmekmddkvsyhcyjluflswpn9lbvpkkkd7uvwuw-.jpg?1535550524&amp;s=2a8c28d08c08a8134c90e583d7bd6f20\n",
            "[!] Issue getting: https://images.creativemarket.com/0.1.0/ps/4970037/1820/2918/m1/fpnw/wm1/lhfctp7lfzszsht3rdbshf2330lmekmddkvsyhcyjluflswpn9lbvpkkkd7uvwuw-.jpg?1535550524&amp;s=2a8c28d08c08a8134c90e583d7bd6f20\n",
            "[!] Error:: HTTP Error 403: Forbidden\n",
            "[%] Downloading Image #11 from https://cmkt-image-prd.freetls.fastly.net/0.1.0/ps/6764199/1820/2513/m1/fpnw/wm1/sktcxnzidikme27mmrf4adkfk0cdxeuiwohfkc0wapszykzutcv9wqttbdonqiwt-.jpg?1564663010&amp;s=01941ff405abf215d3c0ee7c7fe7077a\n",
            "[!] Issue getting: https://cmkt-image-prd.freetls.fastly.net/0.1.0/ps/6764199/1820/2513/m1/fpnw/wm1/sktcxnzidikme27mmrf4adkfk0cdxeuiwohfkc0wapszykzutcv9wqttbdonqiwt-.jpg?1564663010&amp;s=01941ff405abf215d3c0ee7c7fe7077a\n",
            "[!] Error:: HTTP Error 403: Forbidden\n",
            "[%] Downloading Image #11 from https://thumbs.dreamstime.com/z/six-ice-cream-cones-6-different-flavors-1013101.jpg\n",
            "[%] File Downloaded !\n",
            "\n",
            "[%] Downloading Image #12 from https://upload.wikimedia.org/wikipedia/commons/8/86/Ice_cream_cone.jpg\n",
            "[%] File Downloaded !\n",
            "\n",
            "[%] Downloading Image #13 from http://del.h-cdn.co/assets/16/50/1481580895-gettyimages-126553677.jpg\n",
            "[%] File Downloaded !\n",
            "\n",
            "[%] Downloading Image #14 from https://www.courtneyssweets.com/wp-content/uploads/2016/10/Chocolate-Filled-Ice-Cream-Cones-1.jpg\n",
            "[%] File Downloaded !\n",
            "\n",
            "[%] Downloading Image #15 from https://freepngimg.com/thumb/ice_cream/25313-1-ice-cream-cone-picture.png\n",
            "[%] File Downloaded !\n",
            "\n",
            "[%] Downloading Image #16 from http://www.ellinorsicecream.co.uk/wp-content/uploads/scoop-for-trailor-2.jpg\n",
            "[%] File Downloaded !\n",
            "\n",
            "[%] Downloading Image #17 from https://blackfamilyfun.com/wp-content/uploads/2015/04/94482017-e1430401846608.jpg\n",
            "[%] File Downloaded !\n",
            "\n",
            "[%] Downloading Image #18 from https://www.tasteofhome.com/wp-content/uploads/2018/01/Ice-Cream-Cone-Treats_EXPS_SSCBZ18_15427_B10_18_5b.jpg\n",
            "[%] File Downloaded !\n",
            "\n",
            "[%] Downloading Image #19 from http://shewearsmanyhats.com/wp-content/uploads/2013/07/dipped-ice-cream-cones-7.jpg\n",
            "[%] File Downloaded !\n",
            "\n",
            "[%] Downloading Image #20 from http://www.oexmann.com/upload/produkte/xl/7.png\n",
            "[!] Issue getting: http://www.oexmann.com/upload/produkte/xl/7.png\n",
            "[!] Error:: HTTP Error 404: Not Found\n",
            "[%] Downloading Image #20 from https://images.creativemarket.com/0.1.0/ps/4054482/1820/2468/m1/fpnw/wm1/g9qcfn1eogzmyxqptmbgajivooyay0wghb2rzkrqoe28bvtq5xngd5ywhqlu47j3-.jpg?1519493224&amp;s=4fe864794717e7aa383bf78a5762b68e\n",
            "[!] Issue getting: https://images.creativemarket.com/0.1.0/ps/4054482/1820/2468/m1/fpnw/wm1/g9qcfn1eogzmyxqptmbgajivooyay0wghb2rzkrqoe28bvtq5xngd5ywhqlu47j3-.jpg?1519493224&amp;s=4fe864794717e7aa383bf78a5762b68e\n",
            "[!] Error:: HTTP Error 403: Forbidden\n",
            "[%] Downloading Image #20 from http://www.kitcheninnovationsinc.com/wp-content/uploads/2014/07/J218DISP-Ice-Cream.png\n",
            "[%] File Downloaded !\n",
            "\n",
            "[%] Downloading Image #21 from https://www.lowcarb-nocarb.com/wp-content/uploads/2021/04/Ice-Cream-Cones-47.jpg\n",
            "[%] File Downloaded !\n",
            "\n",
            "[%] Downloading Image #22 from https://veryvera.wierstewarthosting.com/wp-content/uploads/2021/01/22152141/IceCream-Cones-1800x2400.jpeg\n",
            "[%] File Downloaded !\n",
            "\n",
            "\n",
            "\n",
            "[!!]Indexing page: 2\n",
            "\n",
            "[%] Indexed 35 Images on Page 2.\n",
            "\n",
            "===============================================\n",
            "\n",
            "[%] Downloading Image #23 from http://s3files.core77.com/blog/images/803017_81_78032_CKv4JonO7.jpg\n",
            "[%] File Downloaded !\n",
            "\n",
            "[%] Downloading Image #24 from https://www.cravingsofalunatic.com/wp-content/uploads/2016/03/Ice-Cream-Cone-Cupcakes-3.jpg\n",
            "[%] File Downloaded !\n",
            "\n",
            "[%] Downloading Image #25 from https://i.pinimg.com/originals/a9/23/73/a92373bff3b754ba522d79c7ddcdf3d4.jpg\n",
            "[%] File Downloaded !\n",
            "\n",
            "[%] Downloading Image #26 from http://www.tomclarkphoto.com/archive/wp-content/uploads/2018/07/ice-cream-cone.jpg\n",
            "[%] File Downloaded !\n",
            "\n",
            "[%] Downloading Image #27 from https://preview.redd.it/ksfqw8jyjit01.jpg?auto=webp&amp;s=bfda381924a56df96333dbb447b3d4449aa3d0ba\n",
            "[!] Issue getting: https://preview.redd.it/ksfqw8jyjit01.jpg?auto=webp&amp;s=bfda381924a56df96333dbb447b3d4449aa3d0ba\n",
            "[!] Error:: HTTP Error 403: Blocked\n",
            "\n",
            "\n",
            "[!!]Indexing page: 3\n",
            "\n",
            "[%] Indexed 30 Images on Page 3.\n",
            "\n",
            "===============================================\n",
            "\n",
            "[%] Downloading Image #27 from https://www.tasteofhome.com/wp-content/uploads/2020/10/soft-serve-ice-cream-cone-1011538714.jpg\n",
            "[%] File Downloaded !\n",
            "\n",
            "[%] Downloading Image #28 from https://images.creativemarket.com/0.1.0/ps/1260332/1360/2167/m1/fpnw/wm1/apo1t6hz5xs7nsjjflkq3p1cor9n5tjyjwyqh4sj7zxdecoizzre5qhzvq9qyuki-.jpg?1462962720&amp;s=e52ffc74a603d3d165e252b4575a23d8\n",
            "[!] Issue getting: https://images.creativemarket.com/0.1.0/ps/1260332/1360/2167/m1/fpnw/wm1/apo1t6hz5xs7nsjjflkq3p1cor9n5tjyjwyqh4sj7zxdecoizzre5qhzvq9qyuki-.jpg?1462962720&amp;s=e52ffc74a603d3d165e252b4575a23d8\n",
            "[!] Error:: HTTP Error 403: Forbidden\n",
            "[%] Downloading Image #28 from https://cdn.wallpapersafari.com/93/56/xMtDkA.jpg\n",
            "[%] File Downloaded !\n",
            "\n",
            "[%] Downloading Image #29 from https://reneenicoleskitchen.com/wp-content/uploads/2017/05/Dipped-Ice-Cream-Cones-Image-2.jpg\n",
            "[%] File Downloaded !\n",
            "\n",
            "[%] Downloading Image #30 from http://3.bp.blogspot.com/-FoChWClRtqc/UayKxyzjFMI/AAAAAAAAD3Y/oiAS1Vo3vNw/s1600/mm45.jpg\n",
            "[%] File Downloaded !\n",
            "\n",
            "\n",
            "\n",
            "[%] Done. Downloaded 30 images.\n",
            "time: 13.9 s (started: 2024-09-07 13:15:08 +00:00)\n"
          ]
        }
      ]
    },
    {
      "cell_type": "code",
      "source": [
        "# Import necessary libraries\n",
        "import os  # For interacting with the operating system (e.g., file paths)\n",
        "import matplotlib.pyplot as plt  # For plotting and visualizing images\n",
        "import numpy as np  # For numerical operations and handling arrays\n",
        "from skimage.io import imread  # For reading images from a file\n",
        "from skimage.transform import resize  # For resizing images\n",
        "\n",
        "'''\n",
        "imread: Used to load images from a file path into a format that can be processed and analyzed.\n",
        "resize: Used to resize images to a consistent shape for model input.\n",
        "'''\n",
        "\n",
        "# Initialize lists to store data\n",
        "target = []  # This will store the encoded labels of each image (e.g., 0, 1, 2)\n",
        "images = []  # This will store the resized image data\n",
        "flat_data = []  # This will store the flattened image data (1D array) for each image\n",
        "\n",
        "# Define the directory where the images are stored\n",
        "DATADIR = '/content/images'\n",
        "\n",
        "# Define the categories (classes) of images\n",
        "CATEGORIES = ['sunflower', 'rugby ball leather', 'ice cream cone']\n",
        "\n",
        "# Loop through each category (e.g., 'sunflower', 'rugby ball leather', 'ice cream cone')\n",
        "for category in CATEGORIES:\n",
        "    class_num = CATEGORIES.index(category)  # Label encoding: get the index of the current category (e.g., 0 for 'sunflower')\n",
        "    path = os.path.join(DATADIR, category)  # Create a path to the directory containing images for the current category\n",
        "\n",
        "    # Loop through each image in the current category directory\n",
        "    for img in os.listdir(path):\n",
        "        img_array = imread(os.path.join(path, img))  # Read the image file into an array format\n",
        "        # print(img_array.shape)  # Uncomment to see the dimensions (height, width, depth) of the image\n",
        "\n",
        "        # Resize the image to 150x150 pixels with 3 color channels (RGB)\n",
        "        # Also normalizes pixel values to the range [0, 1]\n",
        "        img_resized = resize(img_array, (150, 150, 3))\n",
        "\n",
        "        # Flatten the resized image into a 1D array and add it to the flat_data list\n",
        "        flat_data.append(img_resized.flatten())\n",
        "\n",
        "        # Append the resized image to the images list (for visualization or later use)\n",
        "        images.append(img_resized)\n",
        "\n",
        "        # Append the label (encoded category) to the target list\n",
        "        target.append(class_num)\n",
        "\n",
        "# Convert lists to NumPy arrays for efficient numerical computation\n",
        "flat_data = np.array(flat_data)  # Flattened image data array (each image is 1D)\n",
        "target = np.array(target)  # Target labels array (encoded labels for each image)\n",
        "images = np.array(images)  # Resized image data array (each image is 3D, but smaller size)\n",
        "\n",
        "# The data is now preprocessed and ready to be used for model training or further analysis\n"
      ],
      "metadata": {
        "colab": {
          "base_uri": "https://localhost:8080/"
        },
        "id": "CpYz4Rv4O-dl",
        "outputId": "78827e1c-374a-405e-f7c9-5c7fa7af190f"
      },
      "execution_count": null,
      "outputs": [
        {
          "output_type": "stream",
          "name": "stdout",
          "text": [
            "time: 1min 35s (started: 2024-09-07 13:16:26 +00:00)\n"
          ]
        }
      ]
    },
    {
      "cell_type": "code",
      "source": [
        "len(flat_data[0])  #150*150*3=67500"
      ],
      "metadata": {
        "colab": {
          "base_uri": "https://localhost:8080/"
        },
        "id": "62FGGDGZlBkn",
        "outputId": "f3bfccf5-6164-47fc-af6b-51f495209464"
      },
      "execution_count": null,
      "outputs": [
        {
          "output_type": "execute_result",
          "data": {
            "text/plain": [
              "67500"
            ]
          },
          "metadata": {},
          "execution_count": 10
        },
        {
          "output_type": "stream",
          "name": "stdout",
          "text": [
            "time: 3.78 ms (started: 2024-09-07 13:18:12 +00:00)\n"
          ]
        }
      ]
    },
    {
      "cell_type": "code",
      "source": [
        "target"
      ],
      "metadata": {
        "colab": {
          "base_uri": "https://localhost:8080/"
        },
        "id": "zIYpzyVklOFo",
        "outputId": "8757c350-40f9-44e4-d2fa-6804f9e2368b"
      },
      "execution_count": null,
      "outputs": [
        {
          "output_type": "execute_result",
          "data": {
            "text/plain": [
              "array([0, 0, 0, 0, 0, 0, 0, 0, 0, 0, 0, 0, 0, 0, 0, 0, 0, 0, 0, 0, 0, 0,\n",
              "       0, 0, 0, 0, 0, 0, 0, 0, 1, 1, 1, 1, 1, 1, 1, 1, 1, 1, 1, 1, 1, 1,\n",
              "       1, 1, 1, 1, 1, 1, 1, 1, 1, 1, 1, 1, 1, 1, 1, 1, 2, 2, 2, 2, 2, 2,\n",
              "       2, 2, 2, 2, 2, 2, 2, 2, 2, 2, 2, 2, 2, 2, 2, 2, 2, 2, 2, 2, 2, 2,\n",
              "       2, 2])"
            ]
          },
          "metadata": {},
          "execution_count": 11
        },
        {
          "output_type": "stream",
          "name": "stdout",
          "text": [
            "time: 3.86 ms (started: 2024-09-07 13:18:13 +00:00)\n"
          ]
        }
      ]
    },
    {
      "cell_type": "code",
      "source": [
        "# Calculate the unique elements in 'target' and their counts\n",
        "\n",
        "unique, count = np.unique(target, return_counts=True)\n",
        "plt.bar(CATEGORIES, count)"
      ],
      "metadata": {
        "colab": {
          "base_uri": "https://localhost:8080/",
          "height": 467
        },
        "id": "MoMvHIrUlbrK",
        "outputId": "f8c34c02-33c7-4ed0-ee72-7cb99d3fc23a"
      },
      "execution_count": null,
      "outputs": [
        {
          "output_type": "execute_result",
          "data": {
            "text/plain": [
              "<BarContainer object of 3 artists>"
            ]
          },
          "metadata": {},
          "execution_count": 12
        },
        {
          "output_type": "display_data",
          "data": {
            "text/plain": [
              "<Figure size 640x480 with 1 Axes>"
            ],
            "image/png": "[encoded data removed]"
          },
          "metadata": {}
        },
        {
          "output_type": "stream",
          "name": "stdout",
          "text": [
            "time: 307 ms (started: 2024-09-07 13:18:17 +00:00)\n"
          ]
        }
      ]
    },
    {
      "cell_type": "code",
      "source": [
        "from sklearn.model_selection import train_test_split  # Import function to split data into training and testing sets\n",
        "\n",
        "# Split the data into training and testing sets\n",
        "X_train, X_test, y_train, y_test = train_test_split(\n",
        "    flat_data,  # Input features\n",
        "    target,  # Target labels\n",
        "    test_size=0.3,  # 30% of the data will be used for testing, 70% for training\n",
        "    random_state=102  # Ensures reproducibility of the split by using a fixed seed\n",
        ")\n"
      ],
      "metadata": {
        "colab": {
          "base_uri": "https://localhost:8080/"
        },
        "id": "A_KyRlb-l9hZ",
        "outputId": "d81cf601-e519-4f0f-8a90-3efb113eeaaf"
      },
      "execution_count": null,
      "outputs": [
        {
          "output_type": "stream",
          "name": "stdout",
          "text": [
            "time: 21.2 ms (started: 2024-09-07 13:20:45 +00:00)\n"
          ]
        }
      ]
    },
    {
      "cell_type": "code",
      "source": [
        "from sklearn.model_selection import GridSearchCV  # Import for hyperparameter tuning\n",
        "from sklearn import svm  # Import SVM classifier\n",
        "\n",
        "# Define hyperparameter grid for tuning\n",
        "param_grid = [\n",
        "    {'C': [1, 10, 100, 1000], 'kernel': ['linear']},  # Grid for linear kernel with different C values\n",
        "    {'C': [1, 10, 100, 1000], 'gamma': [0.001, 0.0001], 'kernel': ['rbf']}  # Grid for RBF kernel with different C and gamma values\n",
        "]\n",
        "\n",
        "svc = svm.SVC(probability=True)  # Initialize SVM classifier with probability estimates enabled\n",
        "\n",
        "clf = GridSearchCV(svc, param_grid)  # Set up grid search for SVM with the defined parameter grid\n",
        "\n",
        "clf.fit(X_train, y_train)  # Fit the model to training data using grid search to find the best hyperparameters\n",
        "\n",
        "with open('img_model.p', 'wb') as model_file:\n",
        "    pickle.dump(clf, model_file)\n",
        "\n",
        "print(\"Best Parameters:\", clf.best_params_)  # Output best parameters found by grid search\n",
        "print(\"Best Cross-Validation Score:\", clf.best_score_)  # Output best cross-validation score\n"
      ],
      "metadata": {
        "colab": {
          "base_uri": "https://localhost:8080/"
        },
        "id": "mhBj9fFMobrs",
        "outputId": "9c5561f4-be32-46d4-9e20-291f81c8c78b"
      },
      "execution_count": null,
      "outputs": [
        {
          "output_type": "stream",
          "name": "stdout",
          "text": [
            "Best Parameters: {'C': 10, 'gamma': 0.0001, 'kernel': 'rbf'}\n",
            "Best Cross-Validation Score: 0.826923076923077\n",
            "time: 1min 23s (started: 2024-09-07 13:19:22 +00:00)\n"
          ]
        }
      ]
    },
    {
      "cell_type": "code",
      "source": [
        "from google.colab import files\n",
        "\n",
        "# Download the model file\n",
        "files.download('img_model.p')\n"
      ],
      "metadata": {
        "colab": {
          "base_uri": "https://localhost:8080/",
          "height": 35
        },
        "id": "OK5FRB9Xo8h-",
        "outputId": "2e3c2621-25ab-4123-834b-b6b1aadf51ad"
      },
      "execution_count": null,
      "outputs": [
        {
          "output_type": "display_data",
          "data": {
            "text/plain": [
              "<IPython.core.display.Javascript object>"
            ],
            "application/javascript": [
              "\n",
              "    async function download(id, filename, size) {\n",
              "      if (!google.colab.kernel.accessAllowed) {\n",
              "        return;\n",
              "      }\n",
              "      const div = document.createElement('div');\n",
              "      const label = document.createElement('label');\n",
              "      label.textContent = `Downloading \"${filename}\": `;\n",
              "      div.appendChild(label);\n",
              "      const progress = document.createElement('progress');\n",
              "      progress.max = size;\n",
              "      div.appendChild(progress);\n",
              "      document.body.appendChild(div);\n",
              "\n",
              "      const buffers = [];\n",
              "      let downloaded = 0;\n",
              "\n",
              "      const channel = await google.colab.kernel.comms.open(id);\n",
              "      // Send a message to notify the kernel that we're ready.\n",
              "      channel.send({})\n",
              "\n",
              "      for await (const message of channel.messages) {\n",
              "        // Send a message to notify the kernel that we're ready.\n",
              "        channel.send({})\n",
              "        if (message.buffers) {\n",
              "          for (const buffer of message.buffers) {\n",
              "            buffers.push(buffer);\n",
              "            downloaded += buffer.byteLength;\n",
              "            progress.value = downloaded;\n",
              "          }\n",
              "        }\n",
              "      }\n",
              "      const blob = new Blob(buffers, {type: 'application/binary'});\n",
              "      const a = document.createElement('a');\n",
              "      a.href = window.URL.createObjectURL(blob);\n",
              "      a.download = filename;\n",
              "      div.appendChild(a);\n",
              "      a.click();\n",
              "      div.remove();\n",
              "    }\n",
              "  "
            ]
          },
          "metadata": {}
        },
        {
          "output_type": "display_data",
          "data": {
            "text/plain": [
              "<IPython.core.display.Javascript object>"
            ],
            "application/javascript": [
              "download(\"download_b7621b20-5a1a-4ab7-9d9f-7bfb255e6360\", \"img_model.p\", 29705422)"
            ]
          },
          "metadata": {}
        },
        {
          "output_type": "stream",
          "name": "stdout",
          "text": [
            "time: 7.27 ms (started: 2024-09-07 13:24:06 +00:00)\n"
          ]
        }
      ]
    },
    {
      "cell_type": "code",
      "source": [
        "y_pred = clf.predict(X_test)\n",
        "y_pred\n"
      ],
      "metadata": {
        "colab": {
          "base_uri": "https://localhost:8080/"
        },
        "id": "RbYVVChSBvDJ",
        "outputId": "ea885f84-3f2f-49d9-e7ef-924cf7c13ac0"
      },
      "execution_count": null,
      "outputs": [
        {
          "output_type": "execute_result",
          "data": {
            "text/plain": [
              "array([1, 0, 1, 0, 2, 1, 0, 2, 2, 1, 0, 1, 2, 2, 1, 1, 2, 1, 1, 1, 2, 0,\n",
              "       2, 0, 1, 0, 2, 0, 0, 2])"
            ]
          },
          "metadata": {},
          "execution_count": 80
        },
        {
          "output_type": "stream",
          "name": "stdout",
          "text": [
            "time: 85.7 ms (started: 2024-09-07 09:11:33 +00:00)\n"
          ]
        }
      ]
    },
    {
      "cell_type": "code",
      "source": [
        "y_test"
      ],
      "metadata": {
        "colab": {
          "base_uri": "https://localhost:8080/"
        },
        "id": "Ahwm0dVsJ5ba",
        "outputId": "e0d652c9-ff79-4d49-d69d-79aa9fab94e8"
      },
      "execution_count": null,
      "outputs": [
        {
          "output_type": "execute_result",
          "data": {
            "text/plain": [
              "array([1, 0, 0, 0, 1, 1, 0, 0, 2, 1, 2, 1, 2, 2, 1, 1, 0, 1, 1, 1, 0, 0,\n",
              "       2, 0, 1, 0, 1, 0, 0, 0])"
            ]
          },
          "metadata": {},
          "execution_count": 81
        },
        {
          "output_type": "stream",
          "name": "stdout",
          "text": [
            "time: 3.87 ms (started: 2024-09-07 09:11:34 +00:00)\n"
          ]
        }
      ]
    },
    {
      "cell_type": "code",
      "source": [
        "from sklearn.metrics import accuracy_score,confusion_matrix"
      ],
      "metadata": {
        "colab": {
          "base_uri": "https://localhost:8080/"
        },
        "id": "sRcIhYBVLpIz",
        "outputId": "bc3c5a6c-93ec-4d51-f2da-eaf20f643221"
      },
      "execution_count": null,
      "outputs": [
        {
          "output_type": "stream",
          "name": "stdout",
          "text": [
            "time: 474 µs (started: 2024-09-07 09:11:38 +00:00)\n"
          ]
        }
      ]
    },
    {
      "cell_type": "code",
      "source": [
        "accuracy_score(y_pred,y_test)"
      ],
      "metadata": {
        "colab": {
          "base_uri": "https://localhost:8080/"
        },
        "id": "6kbf031dL30O",
        "outputId": "cf5523db-6827-4140-ff44-ad5f27eebcc1"
      },
      "execution_count": null,
      "outputs": [
        {
          "output_type": "execute_result",
          "data": {
            "text/plain": [
              "0.7333333333333333"
            ]
          },
          "metadata": {},
          "execution_count": 83
        },
        {
          "output_type": "stream",
          "name": "stdout",
          "text": [
            "time: 4.25 ms (started: 2024-09-07 09:11:40 +00:00)\n"
          ]
        }
      ]
    },
    {
      "cell_type": "code",
      "source": [
        "confusion_matrix(y_pred,y_test)"
      ],
      "metadata": {
        "colab": {
          "base_uri": "https://localhost:8080/"
        },
        "id": "eN1N2-75MBj8",
        "outputId": "7e0da29f-0cef-4256-eca6-8f054772056c"
      },
      "execution_count": null,
      "outputs": [
        {
          "output_type": "execute_result",
          "data": {
            "text/plain": [
              "array([[ 8,  0,  1],\n",
              "       [ 1, 10,  0],\n",
              "       [ 4,  2,  4]])"
            ]
          },
          "metadata": {},
          "execution_count": 84
        },
        {
          "output_type": "stream",
          "name": "stdout",
          "text": [
            "time: 6.06 ms (started: 2024-09-07 09:11:43 +00:00)\n"
          ]
        }
      ]
    },
    {
      "cell_type": "code",
      "source": [
        "import pickle  # Import the pickle module for saving Python objects\n",
        "\n",
        "# Save the trained model using pickle\n",
        "pickle.dump(clf, open('img_model.p', 'wb'))  # Dump the model 'clf' into a file named 'img_model.p' in write-binary ('wb') mode\n"
      ],
      "metadata": {
        "colab": {
          "base_uri": "https://localhost:8080/"
        },
        "id": "PGMjxozwNAGK",
        "outputId": "fa5c7f6a-fc8e-4a5e-eb58-65dc4953f83d"
      },
      "execution_count": null,
      "outputs": [
        {
          "output_type": "stream",
          "name": "stdout",
          "text": [
            "time: 72.2 ms (started: 2024-09-07 09:11:47 +00:00)\n"
          ]
        }
      ]
    },
    {
      "cell_type": "code",
      "source": [
        "# Load the trained model from the pickle file\n",
        "model = pickle.load(open('img_model.p', 'rb'))  # Load the model 'img_model.p' in read-binary ('rb') mode"
      ],
      "metadata": {
        "colab": {
          "base_uri": "https://localhost:8080/"
        },
        "id": "wq3vzgPLPyXk",
        "outputId": "e4e5e0bc-9991-45f4-f09e-62d782d68b8e"
      },
      "execution_count": null,
      "outputs": [
        {
          "output_type": "stream",
          "name": "stdout",
          "text": [
            "time: 10.4 ms (started: 2024-09-07 09:11:51 +00:00)\n"
          ]
        }
      ]
    },
    {
      "cell_type": "code",
      "source": [
        "import ipywidgets as widgets\n",
        "from IPython.display import display\n",
        "# from skimage.io import imread\n",
        "# from skimage.transform import resize\n",
        "# import numpy as np\n",
        "# import matplotlib.pyplot as plt\n",
        "\n",
        "# Function to process and predict based on URL input\n",
        "def predict_image(url):\n",
        "    try:\n",
        "        flat_data = []\n",
        "        img = imread(url)  # Load image from the provided URL\n",
        "        img_resized = resize(img, (150, 150, 3))  # Resize the image to 150x150 pixels\n",
        "        flat_data.append(img_resized.flatten())  # Flatten the resized image\n",
        "        flat_data = np.array(flat_data)\n",
        "\n",
        "        print(\"Original Image Shape:\", img.shape)  # Print the original image shape\n",
        "        plt.imshow(img_resized)  # Show the resized image\n",
        "        plt.axis('off')  # Hide axes\n",
        "        plt.show()\n",
        "\n",
        "        # Predict using the loaded model\n",
        "        y_out = model.predict(flat_data)\n",
        "        y_out = CATEGORIES[y_out[0]]\n",
        "        print(f'Predicted output: {y_out}')\n",
        "    except Exception as e:\n",
        "        print(f\"An error occurred: {e}\")\n",
        "\n",
        "# Create an input box for the user to enter the image URL\n",
        "url_widget = widgets.Text(\n",
        "    description='Image URL:',\n",
        "    placeholder='Enter the image URL'\n",
        ")\n",
        "\n",
        "# Display the input box\n",
        "display(url_widget)\n",
        "\n",
        "# Function to be called when the URL is entered\n",
        "def on_url_change(change):\n",
        "    if change['name'] == 'value' and change['new']:\n",
        "        predict_image(change['new'])\n",
        "\n",
        "# Observe changes in the input box\n",
        "url_widget.observe(on_url_change)\n"
      ],
      "metadata": {
        "colab": {
          "base_uri": "https://localhost:8080/",
          "height": 493,
          "referenced_widgets": [
            "2e09ab0b7a0843cea41f5518ba490d7b",
            "4eaae64039e5489a90a1b4aa7c2b21dd",
            "ebdf7d8b0925483a87af3cb70eec8f2e"
          ]
        },
        "id": "ewc-2dLnQfsC",
        "outputId": "a7706d5c-1df2-460c-fa7e-fc1e606f4393"
      },
      "execution_count": null,
      "outputs": [
        {
          "output_type": "display_data",
          "data": {
            "text/plain": [
              "Text(value='', description='Image URL:', placeholder='Enter the image URL')"
            ],
            "application/vnd.jupyter.widget-view+json": {
              "version_major": 2,
              "version_minor": 0,
              "model_id": "2e09ab0b7a0843cea41f5518ba490d7b"
            }
          },
          "metadata": {}
        },
        {
          "output_type": "stream",
          "name": "stdout",
          "text": [
            "time: 13.5 ms (started: 2024-09-07 09:12:03 +00:00)\n",
            "Original Image Shape: (225, 225, 3)\n"
          ]
        },
        {
          "output_type": "display_data",
          "data": {
            "text/plain": [
              "<Figure size 640x480 with 1 Axes>"
            ],
            "image/png": "[encoded data removed]"
          },
          "metadata": {}
        },
        {
          "output_type": "stream",
          "name": "stdout",
          "text": [
            "Predicted output: rugby ball leather\n"
          ]
        }
      ]
    },
    {
      "cell_type": "code",
      "source": [
        "!pip install streamlit\n",
        "\n",
        "!pip install pyngrok\n",
        "from pyngrok import ngrok\n",
        "\n",
        "'''\n",
        "Installs the Streamlit library, which is used for creating interactive web applications in Python.\n",
        "Imports the ngrok module from the Pyngrok package, which is used to create and manage secure tunnels for your local server.\n",
        "'''"
      ],
      "metadata": {
        "colab": {
          "base_uri": "https://localhost:8080/",
          "height": 885
        },
        "id": "uGYiulO4QWv5",
        "outputId": "4d744663-9e17-47ff-efbf-a4dca4851a94"
      },
      "execution_count": null,
      "outputs": [
        {
          "output_type": "stream",
          "name": "stdout",
          "text": [
            "Requirement already satisfied: streamlit in /usr/local/lib/python3.10/dist-packages (1.38.0)\n",
            "Requirement already satisfied: altair<6,>=4.0 in /usr/local/lib/python3.10/dist-packages (from streamlit) (4.2.2)\n",
            "Requirement already satisfied: blinker<2,>=1.0.0 in /usr/lib/python3/dist-packages (from streamlit) (1.4)\n",
            "Requirement already satisfied: cachetools<6,>=4.0 in /usr/local/lib/python3.10/dist-packages (from streamlit) (5.5.0)\n",
            "Requirement already satisfied: click<9,>=7.0 in /usr/local/lib/python3.10/dist-packages (from streamlit) (8.1.7)\n",
            "Requirement already satisfied: numpy<3,>=1.20 in /usr/local/lib/python3.10/dist-packages (from streamlit) (1.26.4)\n",
            "Requirement already satisfied: packaging<25,>=20 in /usr/local/lib/python3.10/dist-packages (from streamlit) (24.1)\n",
            "Requirement already satisfied: pandas<3,>=1.3.0 in /usr/local/lib/python3.10/dist-packages (from streamlit) (2.1.4)\n",
            "Requirement already satisfied: pillow<11,>=7.1.0 in /usr/local/lib/python3.10/dist-packages (from streamlit) (9.4.0)\n",
            "Requirement already satisfied: protobuf<6,>=3.20 in /usr/local/lib/python3.10/dist-packages (from streamlit) (3.20.3)\n",
            "Requirement already satisfied: pyarrow>=7.0 in /usr/local/lib/python3.10/dist-packages (from streamlit) (14.0.2)\n",
            "Requirement already satisfied: requests<3,>=2.27 in /usr/local/lib/python3.10/dist-packages (from streamlit) (2.32.3)\n",
            "Requirement already satisfied: rich<14,>=10.14.0 in /usr/local/lib/python3.10/dist-packages (from streamlit) (13.8.0)\n",
            "Requirement already satisfied: tenacity<9,>=8.1.0 in /usr/local/lib/python3.10/dist-packages (from streamlit) (8.5.0)\n",
            "Requirement already satisfied: toml<2,>=0.10.1 in /usr/local/lib/python3.10/dist-packages (from streamlit) (0.10.2)\n",
            "Requirement already satisfied: typing-extensions<5,>=4.3.0 in /usr/local/lib/python3.10/dist-packages (from streamlit) (4.12.2)\n",
            "Requirement already satisfied: gitpython!=3.1.19,<4,>=3.0.7 in /usr/local/lib/python3.10/dist-packages (from streamlit) (3.1.43)\n",
            "Requirement already satisfied: pydeck<1,>=0.8.0b4 in /usr/local/lib/python3.10/dist-packages (from streamlit) (0.9.1)\n",
            "Requirement already satisfied: tornado<7,>=6.0.3 in /usr/local/lib/python3.10/dist-packages (from streamlit) (6.3.3)\n",
            "Requirement already satisfied: watchdog<5,>=2.1.5 in /usr/local/lib/python3.10/dist-packages (from streamlit) (4.0.2)\n",
            "Requirement already satisfied: entrypoints in /usr/local/lib/python3.10/dist-packages (from altair<6,>=4.0->streamlit) (0.4)\n",
            "Requirement already satisfied: jinja2 in /usr/local/lib/python3.10/dist-packages (from altair<6,>=4.0->streamlit) (3.1.4)\n",
            "Requirement already satisfied: jsonschema>=3.0 in /usr/local/lib/python3.10/dist-packages (from altair<6,>=4.0->streamlit) (4.23.0)\n",
            "Requirement already satisfied: toolz in /usr/local/lib/python3.10/dist-packages (from altair<6,>=4.0->streamlit) (0.12.1)\n",
            "Requirement already satisfied: gitdb<5,>=4.0.1 in /usr/local/lib/python3.10/dist-packages (from gitpython!=3.1.19,<4,>=3.0.7->streamlit) (4.0.11)\n",
            "Requirement already satisfied: python-dateutil>=2.8.2 in /usr/local/lib/python3.10/dist-packages (from pandas<3,>=1.3.0->streamlit) (2.8.2)\n",
            "Requirement already satisfied: pytz>=2020.1 in /usr/local/lib/python3.10/dist-packages (from pandas<3,>=1.3.0->streamlit) (2024.1)\n",
            "Requirement already satisfied: tzdata>=2022.1 in /usr/local/lib/python3.10/dist-packages (from pandas<3,>=1.3.0->streamlit) (2024.1)\n",
            "Requirement already satisfied: charset-normalizer<4,>=2 in /usr/local/lib/python3.10/dist-packages (from requests<3,>=2.27->streamlit) (3.3.2)\n",
            "Requirement already satisfied: idna<4,>=2.5 in /usr/local/lib/python3.10/dist-packages (from requests<3,>=2.27->streamlit) (3.8)\n",
            "Requirement already satisfied: urllib3<3,>=1.21.1 in /usr/local/lib/python3.10/dist-packages (from requests<3,>=2.27->streamlit) (2.0.7)\n",
            "Requirement already satisfied: certifi>=2017.4.17 in /usr/local/lib/python3.10/dist-packages (from requests<3,>=2.27->streamlit) (2024.8.30)\n",
            "Requirement already satisfied: markdown-it-py>=2.2.0 in /usr/local/lib/python3.10/dist-packages (from rich<14,>=10.14.0->streamlit) (3.0.0)\n",
            "Requirement already satisfied: pygments<3.0.0,>=2.13.0 in /usr/local/lib/python3.10/dist-packages (from rich<14,>=10.14.0->streamlit) (2.16.1)\n",
            "Requirement already satisfied: smmap<6,>=3.0.1 in /usr/local/lib/python3.10/dist-packages (from gitdb<5,>=4.0.1->gitpython!=3.1.19,<4,>=3.0.7->streamlit) (5.0.1)\n",
            "Requirement already satisfied: MarkupSafe>=2.0 in /usr/local/lib/python3.10/dist-packages (from jinja2->altair<6,>=4.0->streamlit) (2.1.5)\n",
            "Requirement already satisfied: attrs>=22.2.0 in /usr/local/lib/python3.10/dist-packages (from jsonschema>=3.0->altair<6,>=4.0->streamlit) (24.2.0)\n",
            "Requirement already satisfied: jsonschema-specifications>=2023.03.6 in /usr/local/lib/python3.10/dist-packages (from jsonschema>=3.0->altair<6,>=4.0->streamlit) (2023.12.1)\n",
            "Requirement already satisfied: referencing>=0.28.4 in /usr/local/lib/python3.10/dist-packages (from jsonschema>=3.0->altair<6,>=4.0->streamlit) (0.35.1)\n",
            "Requirement already satisfied: rpds-py>=0.7.1 in /usr/local/lib/python3.10/dist-packages (from jsonschema>=3.0->altair<6,>=4.0->streamlit) (0.20.0)\n",
            "Requirement already satisfied: mdurl~=0.1 in /usr/local/lib/python3.10/dist-packages (from markdown-it-py>=2.2.0->rich<14,>=10.14.0->streamlit) (0.1.2)\n",
            "Requirement already satisfied: six>=1.5 in /usr/local/lib/python3.10/dist-packages (from python-dateutil>=2.8.2->pandas<3,>=1.3.0->streamlit) (1.16.0)\n",
            "Requirement already satisfied: pyngrok in /usr/local/lib/python3.10/dist-packages (7.2.0)\n",
            "Requirement already satisfied: PyYAML>=5.1 in /usr/local/lib/python3.10/dist-packages (from pyngrok) (6.0.2)\n"
          ]
        },
        {
          "output_type": "execute_result",
          "data": {
            "text/plain": [
              "'\\nInstalls the Streamlit library, which is used for creating interactive web applications in Python.\\nImports the ngrok module from the Pyngrok package, which is used to create and manage secure tunnels for your local server.\\n'"
            ],
            "application/vnd.google.colaboratory.intrinsic+json": {
              "type": "string"
            }
          },
          "metadata": {},
          "execution_count": 88
        },
        {
          "output_type": "stream",
          "name": "stdout",
          "text": [
            "time: 7.05 s (started: 2024-09-07 09:12:19 +00:00)\n"
          ]
        }
      ]
    },
    {
      "cell_type": "code",
      "source": [
        "!pip install Django\n"
      ],
      "metadata": {
        "colab": {
          "base_uri": "https://localhost:8080/"
        },
        "id": "md3IH8Y4409C",
        "outputId": "b47a81c7-be66-4f25-ee16-538d55ab3c18"
      },
      "execution_count": null,
      "outputs": [
        {
          "output_type": "stream",
          "name": "stdout",
          "text": [
            "Collecting Django\n",
            "  Downloading Django-5.1.1-py3-none-any.whl.metadata (4.2 kB)\n",
            "Collecting asgiref<4,>=3.8.1 (from Django)\n",
            "  Downloading asgiref-3.8.1-py3-none-any.whl.metadata (9.3 kB)\n",
            "Requirement already satisfied: sqlparse>=0.3.1 in /usr/local/lib/python3.10/dist-packages (from Django) (0.5.1)\n",
            "Requirement already satisfied: typing-extensions>=4 in /usr/local/lib/python3.10/dist-packages (from asgiref<4,>=3.8.1->Django) (4.12.2)\n",
            "Downloading Django-5.1.1-py3-none-any.whl (8.2 MB)\n",
            "\u001b[2K   \u001b[90m━━━━━━━━━━━━━━━━━━━━━━━━━━━━━━━━━━━━━━━━\u001b[0m \u001b[32m8.2/8.2 MB\u001b[0m \u001b[31m25.3 MB/s\u001b[0m eta \u001b[36m0:00:00\u001b[0m\n",
            "\u001b[?25hDownloading asgiref-3.8.1-py3-none-any.whl (23 kB)\n",
            "Installing collected packages: asgiref, Django\n",
            "Successfully installed Django-5.1.1 asgiref-3.8.1\n",
            "time: 9.28 s (started: 2024-09-07 09:50:34 +00:00)\n"
          ]
        }
      ]
    },
    {
      "cell_type": "code",
      "source": [
        "# %%writefile app.py\n",
        "# import streamlit as st\n",
        "# import numpy as np\n",
        "# from skimage.io import imread\n",
        "# from skimage.transform import resize\n",
        "# import pickle\n",
        "# from PIL import Image\n",
        "\n",
        "# st.set_option('deprecation.showfileUploaderEncoding',False)\n",
        "# st.title(\"Image Classifier usind Machine Learning\")\n",
        "# st.text(\"Upload Image\")\n",
        "\n",
        "# model = pickle.load(open('img_model.p','rb'))\n",
        "\n",
        "# uploaded_file = st.file_uploader(\"Choose an Image\",type='jpg')\n",
        "# if uploaded_file is not None:\n",
        "#   img = Image.open(uploaded_file)\n",
        "#   st.image(img,caption='Uploaded Image')"
      ],
      "metadata": {
        "colab": {
          "base_uri": "https://localhost:8080/"
        },
        "id": "Zs6czFCJbHpC",
        "outputId": "c38bf866-b047-4fab-bafb-0e9b8b484f85"
      },
      "execution_count": null,
      "outputs": [
        {
          "output_type": "stream",
          "name": "stdout",
          "text": [
            "Overwriting app.py\n",
            "time: 3.24 ms (started: 2024-09-07 08:24:42 +00:00)\n"
          ]
        }
      ]
    }
  ]
}